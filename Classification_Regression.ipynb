!pip install scikit-multiflow

from skmultiflow.trees import HoeffdingTreeClassifier
from skmultiflow.evaluation import EvaluateHoldout
from skmultiflow.data.file_stream import FileStream

stream = FileStream("covtype.csv")

ht = HoeffdingTreeClassifier()

evaluator = EvaluateHoldout(max_samples=100000,
                            max_time=1000,
                            show_plot=True,
                            metrics=['accuracy', 'kappa'],
                            dynamic_test_set=True)

evaluator.evaluate(stream=stream, model=ht, model_names=['HT'])

from skmultiflow.data import RegressionGenerator
from skmultiflow.trees import HoeffdingTreeRegressor
import numpy as np

stream = FileStream("covtype.csv")

ht_reg = HoeffdingTreeRegressor()

n_samples = 0
max_samples = 100000
y_pred = np.zeros(max_samples)
y_true = np.zeros(max_samples)

while n_samples < max_samples and stream.has_more_samples():
    X, y = stream.next_sample()
    y_true[n_samples] = y[0]
    y_pred[n_samples] = ht_reg.predict(X)[0]
    ht_reg.partial_fit(X, y)
    n_samples += 1

print('{} samples analyzed.'.format(n_samples))
print('Hoeffding Tree regressor mean absolute error: {}'.
      format(np.mean(np.abs(y_true - y_pred))))
ht_reg
